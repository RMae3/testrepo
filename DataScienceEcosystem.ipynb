{
 "cells": [
  {
   "cell_type": "markdown",
   "id": "85757c4d-44ee-4853-95dc-4a6a91ce6519",
   "metadata": {},
   "source": [
    "# Data Science Tools and Ecosystem"
   ]
  },
  {
   "cell_type": "markdown",
   "id": "c98b3619-5e5a-4e3b-a1dd-d6dec8171761",
   "metadata": {},
   "source": [
    "In this notebook, Data Science Tools and Ecosystem are summarized."
   ]
  },
  {
   "cell_type": "markdown",
   "id": "66cdbd69-7636-4cf8-9ac2-5fa0fe30fdcb",
   "metadata": {
    "tags": []
   },
   "source": [
    "***Objectives:***\n",
    "- List popular languages for Data Science\n",
    "- List 3 Data Science Tools\n",
    "- List commonly used libraries used by Data Scientists"
   ]
  },
  {
   "cell_type": "markdown",
   "id": "13075909-6c6b-45b0-a269-b9cdd366aa60",
   "metadata": {},
   "source": [
    "## Author\n",
    "Rhea Mae D. Alforque"
   ]
  },
  {
   "cell_type": "markdown",
   "id": "8521769f-9b6d-47f2-bfb0-d8d0fc79dba9",
   "metadata": {},
   "source": [
    "Some of the popular languages that Data Scientists use are:\n",
    "1. Python\n",
    "2. R  \n",
    "3. C++ \n",
    "4. Java \n",
    "5. SQL \n",
    "6. Javascript\n",
    "7. Julia \n",
    "8. Scala"
   ]
  },
  {
   "cell_type": "markdown",
   "id": "96b94c0a-ac1b-4d60-a380-ebd28dd8c5ab",
   "metadata": {},
   "source": [
    "Some of the commonly used libraries used by Data Scientists include:\n",
    "1. Pandas\n",
    "2. SciPy  \n",
    "3. NumPy \n",
    "4. Seaborn \n",
    "5. Scikit-learn  \n",
    "6. TensorFlow  \n",
    "7. Matplotlib "
   ]
  },
  {
   "cell_type": "markdown",
   "id": "be503c90-84eb-4aa0-a255-007f608ff73c",
   "metadata": {},
   "source": [
    "| Data Science Tools |\n",
    "   |------|\n",
    "   |Jupyter Notebook|\n",
    "   |RStudio|\n",
    "   |Apache Spark|"
   ]
  },
  {
   "cell_type": "markdown",
   "id": "d81f8158-2a39-4a1b-8062-60a31a48a05b",
   "metadata": {
    "tags": []
   },
   "source": [
    "### Below are a few examples of evaluating arithmetic expressions in Python"
   ]
  },
  {
   "cell_type": "code",
   "execution_count": 2,
   "id": "4147c01a-3ca7-4fb9-bdd7-aa2167d9ba96",
   "metadata": {
    "tags": []
   },
   "outputs": [
    {
     "data": {
      "text/plain": [
       "17"
      ]
     },
     "execution_count": 2,
     "metadata": {},
     "output_type": "execute_result"
    }
   ],
   "source": [
    "# This a simple arithmetic expression to mutiply then add integers\n",
    "(3*4)+5"
   ]
  },
  {
   "cell_type": "code",
   "execution_count": 5,
   "id": "ce5e8383-919c-4bf2-8fe1-6ecb28c5ad3c",
   "metadata": {
    "tags": []
   },
   "outputs": [
    {
     "name": "stdout",
     "output_type": "stream",
     "text": [
      "3.3333333333333335\n"
     ]
    }
   ],
   "source": [
    "# This will convert 200 minutes to hours by diving by 60\n",
    "minutes = 200\n",
    "convert_min_to_hrs = minutes/60\n",
    "print(convert_min_to_hrs)"
   ]
  },
  {
   "cell_type": "code",
   "execution_count": null,
   "id": "5b402c16-7b3d-435e-b63b-0d33bd0d784d",
   "metadata": {},
   "outputs": [],
   "source": []
  }
 ],
 "metadata": {
  "kernelspec": {
   "display_name": "Python",
   "language": "python",
   "name": "conda-env-python-py"
  },
  "language_info": {
   "codemirror_mode": {
    "name": "ipython",
    "version": 3
   },
   "file_extension": ".py",
   "mimetype": "text/x-python",
   "name": "python",
   "nbconvert_exporter": "python",
   "pygments_lexer": "ipython3",
   "version": "3.7.12"
  }
 },
 "nbformat": 4,
 "nbformat_minor": 5
}
